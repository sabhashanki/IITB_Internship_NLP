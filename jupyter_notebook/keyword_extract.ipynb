{
 "cells": [
  {
   "cell_type": "code",
   "execution_count": 1,
   "metadata": {},
   "outputs": [
    {
     "name": "stderr",
     "output_type": "stream",
     "text": [
      "c:\\Users\\shankesh\\AppData\\Local\\Programs\\Python\\Python310\\lib\\site-packages\\tqdm\\auto.py:22: TqdmWarning: IProgress not found. Please update jupyter and ipywidgets. See https://ipywidgets.readthedocs.io/en/stable/user_install.html\n",
      "  from .autonotebook import tqdm as notebook_tqdm\n"
     ]
    }
   ],
   "source": [
    "from sklearn.feature_extraction.text import CountVectorizer\n",
    "from nltk.corpus import stopwords\n",
    "from sentence_transformers import SentenceTransformer\n",
    "from sklearn.metrics.pairwise import cosine_similarity\n",
    "import logging\n",
    "logging.basicConfig(level = logging.INFO, filename = 'keyword_extract_notebook.log', filemode = 'w', format = '%(asctime)s - %(levelname)s - %(message)s')\n",
    "\n",
    "logging.info('All libraries exported')"
   ]
  },
  {
   "cell_type": "code",
   "execution_count": 2,
   "metadata": {},
   "outputs": [],
   "source": [
    "data = \"\"\"\n",
    "         Supervised learning is the machine learning task of \n",
    "         learning a function that maps an input to an output based \n",
    "         on example input-output pairs.[1] It infers a function \n",
    "         from labeled training data consisting of a set of \n",
    "         training examples.[2] In supervised learning, each \n",
    "         example is a pair consisting of an input object \n",
    "         (typically a vector) and a desired output value (also \n",
    "         called the supervisory signal). A supervised learning \n",
    "         algorithm analyzes the training data and produces an \n",
    "         inferred function, which can be used for mapping new \n",
    "         examples. An optimal scenario will allow for the algorithm \n",
    "         to correctly determine the class labels for unseen \n",
    "         instances. This requires the learning algorithm to  \n",
    "         generalize from the training data to unseen situations \n",
    "         in a 'reasonable' way (see inductive bias).\n",
    "      \"\"\""
   ]
  },
  {
   "cell_type": "code",
   "execution_count": 3,
   "metadata": {},
   "outputs": [],
   "source": [
    "allstopwords = stopwords.words('English')\n",
    "\n",
    "try:\n",
    "    cvector = CountVectorizer(ngram_range=(1,1), stop_words=allstopwords)\n",
    "    cvector.fit_transform([data])\n",
    "    logging.info('Data is vectorized and data is tranformed')\n",
    "except:\n",
    "    print('Vectorized failed')\n",
    "    logging.error('Vectorized failed')\n",
    "\n",
    "keywords = cvector.get_feature_names_out()"
   ]
  },
  {
   "cell_type": "code",
   "execution_count": 4,
   "metadata": {},
   "outputs": [
    {
     "name": "stderr",
     "output_type": "stream",
     "text": [
      "Batches: 100%|██████████| 1/1 [00:00<00:00,  3.91it/s]\n",
      "Batches: 100%|██████████| 2/2 [00:00<00:00,  4.81it/s]\n"
     ]
    }
   ],
   "source": [
    "try:\n",
    "    model = SentenceTransformer('distilbert-base-nli-mean-tokens')\n",
    "    data_embed = model.encode([data])\n",
    "    keyword_embed = model.encode(keywords)\n",
    "    logging.info('Data is embedded using Distilbert model')\n",
    "except:\n",
    "    print('Data embedding failed')\n",
    "    logging.error('Data embedding failed')"
   ]
  },
  {
   "cell_type": "code",
   "execution_count": 5,
   "metadata": {},
   "outputs": [],
   "source": [
    "try:\n",
    "    top_n = 5\n",
    "    distances = cosine_similarity(data_embed, keyword_embed)\n",
    "    final_keywords = [keywords[index] for index in distances.argsort()[0][-top_n:]]\n",
    "    logging.info('cosine similarity distance calculated')\n",
    "except:\n",
    "    print('cosine similarity calculation failed')\n",
    "    logging.error('cosine similarity calculation failed')"
   ]
  },
  {
   "cell_type": "code",
   "execution_count": 6,
   "metadata": {},
   "outputs": [
    {
     "data": {
      "text/plain": [
       "(array(['algorithm', 'allow', 'also', 'analyzes', 'based', 'bias',\n",
       "        'called', 'class', 'consisting', 'correctly', 'data', 'desired',\n",
       "        'determine', 'example', 'examples', 'function', 'generalize',\n",
       "        'inductive', 'inferred', 'infers', 'input', 'instances', 'labeled',\n",
       "        'labels', 'learning', 'machine', 'mapping', 'maps', 'new',\n",
       "        'object', 'optimal', 'output', 'pair', 'pairs', 'produces',\n",
       "        'reasonable', 'requires', 'scenario', 'see', 'set', 'signal',\n",
       "        'situations', 'supervised', 'supervisory', 'task', 'training',\n",
       "        'typically', 'unseen', 'used', 'value', 'vector', 'way'],\n",
       "       dtype=object),\n",
       " array([[0.45560038, 0.1336013 , 0.07479402, 0.31460872, 0.13824819,\n",
       "         0.09117435, 0.11441343, 0.4086999 , 0.09669925, 0.13623556,\n",
       "         0.20845458, 0.18884563, 0.19503789, 0.16670373, 0.20907958,\n",
       "         0.23956454, 0.21112514, 0.23319237, 0.20896897, 0.2012858 ,\n",
       "         0.27665883, 0.12842578, 0.20875162, 0.18689686, 0.46048343,\n",
       "         0.228849  , 0.3700583 , 0.25973576, 0.15053254, 0.11785361,\n",
       "         0.1989448 , 0.19428231, 0.1733672 , 0.18125567, 0.15908208,\n",
       "         0.12776856, 0.14821346, 0.19003047, 0.11781285, 0.15302043,\n",
       "         0.23401256, 0.14074661, 0.3538044 , 0.22788452, 0.26155266,\n",
       "         0.44877663, 0.14492649, 0.05249768, 0.14756113, 0.10999653,\n",
       "         0.12863494, 0.06691314]], dtype=float32),\n",
       " ['mapping', 'class', 'training', 'algorithm', 'learning'])"
      ]
     },
     "execution_count": 6,
     "metadata": {},
     "output_type": "execute_result"
    }
   ],
   "source": [
    "keywords, distances, final_keywords"
   ]
  }
 ],
 "metadata": {
  "kernelspec": {
   "display_name": "Python 3.10.7 64-bit",
   "language": "python",
   "name": "python3"
  },
  "language_info": {
   "codemirror_mode": {
    "name": "ipython",
    "version": 3
   },
   "file_extension": ".py",
   "mimetype": "text/x-python",
   "name": "python",
   "nbconvert_exporter": "python",
   "pygments_lexer": "ipython3",
   "version": "3.10.7"
  },
  "orig_nbformat": 4,
  "vscode": {
   "interpreter": {
    "hash": "30f7c703543b98f74a265370aeedf5f5cf7efc2f0baf29f81611cc4f6bf8c141"
   }
  }
 },
 "nbformat": 4,
 "nbformat_minor": 2
}
