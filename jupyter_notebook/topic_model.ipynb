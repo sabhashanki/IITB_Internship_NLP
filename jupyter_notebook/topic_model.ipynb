{
 "cells": [
  {
   "cell_type": "code",
   "execution_count": 1,
   "metadata": {},
   "outputs": [],
   "source": [
    "from nltk.corpus import stopwords\n",
    "from nltk.stem.wordnet import WordNetLemmatizer\n",
    "import gensim\n",
    "from gensim import corpora\n",
    "import string\n",
    "import logging\n",
    "logging.basicConfig(level = logging.INFO, filename = '../logs/topic_prediction_notebook.log', filemode = 'w', format = '%(asctime)s - %(levelname)s - %(message)s')\n",
    "\n",
    "logging.info('All libraries exported')"
   ]
  },
  {
   "cell_type": "code",
   "execution_count": 2,
   "metadata": {},
   "outputs": [],
   "source": [
    "stop = set(stopwords.words('english'))\n",
    "exclude = set(string.punctuation)\n",
    "lemma = WordNetLemmatizer()"
   ]
  },
  {
   "cell_type": "code",
   "execution_count": 3,
   "metadata": {},
   "outputs": [],
   "source": [
    "data = [\"\"\"\n",
    "      Napoleon, also Napoleon Bonaparte[a] (born Napoleone Buonaparte; 15 August 1769 – 5 May 1821), \n",
    "      and later known by his regnal name Napoleon I,[b] was a French military and political leader \n",
    "      who rose to prominence during the French Revolution and led several successful campaigns during \n",
    "      the Revolutionary Wars. He was the de facto leader of the French Republic as First Consul from \n",
    "      1799 to 1804, and as Napoleon I, he was Emperor of the French from 1804 until 1814 and again in 1815. \n",
    "      Napoleon's political and cultural legacy has endured to this day, and he stands as one of \n",
    "      the most celebrated and controversial leaders in world history.[2][\n",
    "      \n",
    "      \"\"\"]"
   ]
  },
  {
   "cell_type": "code",
   "execution_count": 4,
   "metadata": {},
   "outputs": [],
   "source": [
    "try:\n",
    "    def clean(doc):\n",
    "        stop_free = \" \".join([i for i in doc.lower().split() if i not in stop])\n",
    "        punc_free = ''.join(ch for ch in stop_free if ch not in exclude)\n",
    "        normalized = \" \".join(lemma.lemmatize(word) for word in punc_free.split())\n",
    "        logging.info('data clean performed')\n",
    "        return normalized\n",
    "except:\n",
    "    print('Cleaning error')\n",
    "    logging.error('Cleaning error')\n",
    "\n",
    "doc_clean = [clean(doc).split() for doc in data]       "
   ]
  },
  {
   "cell_type": "code",
   "execution_count": 5,
   "metadata": {},
   "outputs": [],
   "source": [
    "try:\n",
    "    dictionary = corpora.Dictionary(doc_clean)\n",
    "    doc_term_matrix = [dictionary.doc2bow(doc) for doc in doc_clean]\n",
    "    Lda = gensim.models.ldamodel.LdaModel\n",
    "    ldamodel = Lda(doc_term_matrix, num_topics=1, id2word = dictionary, passes=100)\n",
    "    logging.info('bow and lda model created')\n",
    "except:\n",
    "    print('error in creating lda model')\n",
    "    logging.error('error in creating lda model')"
   ]
  },
  {
   "cell_type": "code",
   "execution_count": 6,
   "metadata": {},
   "outputs": [
    {
     "name": "stdout",
     "output_type": "stream",
     "text": [
      "0.052*\"napoleon\"\n"
     ]
    }
   ],
   "source": [
    "print(ldamodel.print_topics(num_topics=1, num_words=1)[0][1])"
   ]
  }
 ],
 "metadata": {
  "kernelspec": {
   "display_name": "Python 3.10.7 64-bit",
   "language": "python",
   "name": "python3"
  },
  "language_info": {
   "codemirror_mode": {
    "name": "ipython",
    "version": 3
   },
   "file_extension": ".py",
   "mimetype": "text/x-python",
   "name": "python",
   "nbconvert_exporter": "python",
   "pygments_lexer": "ipython3",
   "version": "3.10.7"
  },
  "orig_nbformat": 4,
  "vscode": {
   "interpreter": {
    "hash": "30f7c703543b98f74a265370aeedf5f5cf7efc2f0baf29f81611cc4f6bf8c141"
   }
  }
 },
 "nbformat": 4,
 "nbformat_minor": 2
}
