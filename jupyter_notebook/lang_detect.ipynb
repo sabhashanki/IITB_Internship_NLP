{
 "cells": [
  {
   "cell_type": "code",
   "execution_count": 1,
   "metadata": {},
   "outputs": [],
   "source": [
    "import re\n",
    "import numpy as np\n",
    "import pandas as pd\n",
    "from sklearn.model_selection import train_test_split\n",
    "from sklearn.metrics import precision_recall_fscore_support, roc_auc_score, accuracy_score\n",
    "from sklearn.feature_extraction.text import CountVectorizer\n",
    "from sklearn.naive_bayes import MultinomialNB\n",
    "from sklearn.preprocessing import LabelEncoder\n",
    "import pickle\n",
    "import logging\n",
    "logging.basicConfig(level = logging.INFO, filename = 'lang_detect_notebook.log', filemode = 'w', format = '%(asctime)s - %(levelname)s - %(message)s')\n",
    "\n",
    "logging.info('All libraries exported')"
   ]
  },
  {
   "cell_type": "code",
   "execution_count": 18,
   "metadata": {},
   "outputs": [],
   "source": [
    "try:\n",
    "    df = pd.read_csv('../dataset/Language Detection.csv')\n",
    "    x = df.Text\n",
    "    y = df.Language\n",
    "    logging.info('Read CSV file, Dependent/independent features extracted')\n",
    "    pickle.dump(y, open('../pickle_exports/y.pkl', 'wb'))\n",
    "except:\n",
    "    print('CSV file not found')\n",
    "    logging.error('File not found')"
   ]
  },
  {
   "cell_type": "code",
   "execution_count": 3,
   "metadata": {},
   "outputs": [],
   "source": [
    "try:\n",
    "    le = LabelEncoder()\n",
    "    encoded_y = le.fit_transform(y)\n",
    "    logging.info('Dependent variable encoded and pickle file exported')\n",
    "except:\n",
    "    print('Encoding failed')\n",
    "    logging.error('Encoding failed')"
   ]
  },
  {
   "cell_type": "code",
   "execution_count": 4,
   "metadata": {},
   "outputs": [],
   "source": [
    "try:\n",
    "    data = []\n",
    "    for text in x:\n",
    "        text = re.sub(r'[!@#$(),.n\"%^*?:;~`0-9\\n]', '', text)\n",
    "        text = text.lower()\n",
    "        data.append(text)\n",
    "    logging.info('Data cleaning done')\n",
    "except:\n",
    "    logging.error('Data cleaning aborted unexpectedly')"
   ]
  },
  {
   "cell_type": "code",
   "execution_count": 14,
   "metadata": {},
   "outputs": [],
   "source": [
    "try:\n",
    "    pickle.dump(data, open('../pickle_exports/data.pkl','wb'))\n",
    "    logging.info('cleaned data exported successfully')\n",
    "except:\n",
    "    print('File not found')\n",
    "    logging.error('Cleaned data file not found')"
   ]
  },
  {
   "cell_type": "code",
   "execution_count": 6,
   "metadata": {},
   "outputs": [],
   "source": [
    "try:\n",
    "    cv = CountVectorizer()\n",
    "    x_vector = cv.fit_transform(data).toarray()\n",
    "    logging.info('Data vectorized and converted to array')\n",
    "except:\n",
    "    print('Vectorization failed')\n",
    "    logging.error('Vectorization failed')"
   ]
  },
  {
   "cell_type": "code",
   "execution_count": 7,
   "metadata": {},
   "outputs": [],
   "source": [
    "try:\n",
    "    xtrain, xtest, ytrain, ytest = train_test_split(x_vector, encoded_y, train_size=0.8, random_state = 12)\n",
    "    logging.info('Train/Test data split')\n",
    "except:\n",
    "    print('Dataset split failed')\n",
    "    logging.error('Dataset split failed')"
   ]
  },
  {
   "cell_type": "code",
   "execution_count": 8,
   "metadata": {},
   "outputs": [],
   "source": [
    "try:\n",
    "    naive_model = MultinomialNB()\n",
    "    naive_model.fit(xtrain, ytrain)\n",
    "    logging.info('Model trained successfully')\n",
    "except:\n",
    "    print('Model training failed')\n",
    "    logging.error('Model training failed')"
   ]
  },
  {
   "cell_type": "code",
   "execution_count": 9,
   "metadata": {},
   "outputs": [
    {
     "name": "stdout",
     "output_type": "stream",
     "text": [
      "Accuracy is: 0.97\n",
      "Precision is: 0.97\n",
      "Recall is: 0.97\n",
      "Fscore is: 0.97\n"
     ]
    }
   ],
   "source": [
    "try:\n",
    "    ypred = naive_model.predict(xtest)\n",
    "    precision, recall, f_beta, support = precision_recall_fscore_support(ytest, ypred, beta=2, pos_label=1, average='weighted', zero_division=1)\n",
    "    accuracy = accuracy_score(ytest, ypred)\n",
    "    print(f\"Accuracy is: {accuracy:.2f}\")\n",
    "    print(f\"Precision is: {precision:.2f}\")\n",
    "    print(f\"Recall is: {recall:.2f}\")\n",
    "    print(f\"Fscore is: {f_beta:.2f}\")\n",
    "    logging.info('accuracy calculated')\n",
    "except:\n",
    "    print('Accuracy calculation failed')\n",
    "    logging.error('Accuracy calculation failed')"
   ]
  },
  {
   "cell_type": "code",
   "execution_count": 11,
   "metadata": {},
   "outputs": [],
   "source": [
    "try:\n",
    "    def prediction(text):\n",
    "        x = cv.transform([text]).toarray()\n",
    "        lang = naive_model.predict(x)\n",
    "        lang = le.inverse_transform(lang)\n",
    "        print('Naive Bayes Prediction : ',lang[0])\n",
    "        logging.info('Prediction function executed and result printed')\n",
    "except:\n",
    "    print('Prediction module failed')\n",
    "    logging.error('Prediction module failed')"
   ]
  },
  {
   "cell_type": "code",
   "execution_count": 12,
   "metadata": {},
   "outputs": [
    {
     "name": "stdout",
     "output_type": "stream",
     "text": [
      "Naive Bayes Prediction :  Arabic\n",
      "Naive Bayes Prediction :  Russian\n",
      "Naive Bayes Prediction :  Tamil\n",
      "Naive Bayes Prediction :  Malayalam\n",
      "Naive Bayes Prediction :  Kannada\n",
      "Naive Bayes Prediction :  Dutch\n",
      "Naive Bayes Prediction :  Spanish\n",
      "Naive Bayes Prediction :  Sweedish\n",
      "Naive Bayes Prediction :  German\n",
      "Naive Bayes Prediction :  Greek\n",
      "Naive Bayes Prediction :  Portugeese\n"
     ]
    }
   ],
   "source": [
    "prediction('أحتاج إلى شراء دراجة هوندا بعد حصولي على وظيفة')\n",
    "prediction(\"это портал знаний на базе сообщества для профессионалов в области аналитики и данных.\")\n",
    "prediction(\"வணக்கம் ச மாப்ள\")\n",
    "prediction(\"എനിക്ക് ജോലി കിട്ടിയതിന് ശേഷം എനിക്ക് ഒരു ഹോണ്ട ബൈക്ക് വാങ്ങണം\")\n",
    "prediction(\"ನಾನು ಕೆಲಸ ಪಡೆದ ನಂತರ ನಾನು ಹೋಂಡಾ ಬೈಕ್ ಖರೀದಿಸಬೇಕಾಗಿದೆ\")\n",
    "prediction(\"ik moet een honda-fiets kopen nadat ik een baan heb gekregen\")\n",
    "prediction(\"necesito comprar una bicicleta honda después de conseguir un trabajo\")\n",
    "prediction(\"Jag måste köpa en hondacykel efter att jag fått jobb\")\n",
    "prediction(\"Ich muss mir ein Honda-Motorrad kaufen, nachdem ich einen Job bekommen habe\")\n",
    "prediction(\"Πρέπει να αγοράσω ένα ποδήλατο honda αφού βρω δουλειά\")\n",
    "prediction(\"eu preciso comprar uma moto honda depois que eu conseguir um emprego\")\n",
    "\n",
    "logging.info('Prediction function called for sample data')"
   ]
  },
  {
   "cell_type": "code",
   "execution_count": 13,
   "metadata": {},
   "outputs": [],
   "source": [
    "try:\n",
    "    import pickle  \n",
    "    pickle.dump(naive_model, open('../pickle_exports/naive_lang_detect_model1.pkl','wb'))\n",
    "    logging.info('Model pickle file exported')\n",
    "except:\n",
    "    print('Model pickle file import failed')\n",
    "    logging.error('Model pickle file import failed')"
   ]
  }
 ],
 "metadata": {
  "kernelspec": {
   "display_name": "Python 3.10.7 64-bit",
   "language": "python",
   "name": "python3"
  },
  "language_info": {
   "codemirror_mode": {
    "name": "ipython",
    "version": 3
   },
   "file_extension": ".py",
   "mimetype": "text/x-python",
   "name": "python",
   "nbconvert_exporter": "python",
   "pygments_lexer": "ipython3",
   "version": "3.10.7"
  },
  "orig_nbformat": 4,
  "vscode": {
   "interpreter": {
    "hash": "30f7c703543b98f74a265370aeedf5f5cf7efc2f0baf29f81611cc4f6bf8c141"
   }
  }
 },
 "nbformat": 4,
 "nbformat_minor": 2
}
