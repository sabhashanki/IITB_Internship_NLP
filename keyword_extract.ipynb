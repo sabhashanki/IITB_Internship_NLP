{
 "cells": [
  {
   "cell_type": "code",
   "execution_count": 80,
   "metadata": {},
   "outputs": [],
   "source": [
    "from sklearn.feature_extraction.text import CountVectorizer\n",
    "from nltk.corpus import stopwords"
   ]
  },
  {
   "cell_type": "code",
   "execution_count": 81,
   "metadata": {},
   "outputs": [
    {
     "data": {
      "text/plain": [
       "\"languages = [\\n    'English', 'French', 'Dutch', 'Spanish', 'Greek', 'Russian', 'Danish', 'Italian',\\n    'Turkish', 'Swedish', 'Arabic', 'German'\\n    ]\\n\\nfor lang in languages:\\n    allwords = stopwords.words(lang)\\n    allstopwords.extend(allwords)\\n\""
      ]
     },
     "execution_count": 81,
     "metadata": {},
     "output_type": "execute_result"
    }
   ],
   "source": [
    "allstopwords = stopwords.words('English')\n",
    "\n",
    "\"\"\"languages = [\n",
    "    'English', 'French', 'Dutch', 'Spanish', 'Greek', 'Russian', 'Danish', 'Italian',\n",
    "    'Turkish', 'Swedish', 'Arabic', 'German'\n",
    "    ]\n",
    "\n",
    "for lang in languages:\n",
    "    allwords = stopwords.words(lang)\n",
    "    allstopwords.extend(allwords)\n",
    "\"\"\""
   ]
  },
  {
   "cell_type": "code",
   "execution_count": 82,
   "metadata": {},
   "outputs": [],
   "source": [
    "data = \"\"\"\n",
    "  Machine learning (ML) is a type of artificial intelligence (AI)\n",
    "   that allows software applications to become more accurate at\n",
    "    predicting outcomes without being explicitly programmed to \n",
    "    do so. Machine learning algorithms use historical data as \n",
    "    input to predict new output values.\n",
    "\n",
    "Recommendation engines are a common use case for machine learning.\n",
    " Other popular uses include fraud detection, spam filtering, \n",
    " malware threat detection, business process automation (BPA) \n",
    " and Predictive maintenance\n",
    "      \"\"\""
   ]
  },
  {
   "cell_type": "code",
   "execution_count": 83,
   "metadata": {},
   "outputs": [
    {
     "data": {
      "text/plain": [
       "179"
      ]
     },
     "execution_count": 83,
     "metadata": {},
     "output_type": "execute_result"
    }
   ],
   "source": [
    "len(allstopwords)"
   ]
  },
  {
   "cell_type": "code",
   "execution_count": 84,
   "metadata": {},
   "outputs": [],
   "source": [
    "cvector = CountVectorizer(ngram_range=(1,1), stop_words=allstopwords)\n",
    "cvector.fit_transform([data])\n",
    "keywords = cvector.get_feature_names_out()"
   ]
  },
  {
   "cell_type": "code",
   "execution_count": 85,
   "metadata": {},
   "outputs": [
    {
     "data": {
      "text/plain": [
       "array(['accurate', 'ai', 'algorithms', 'allows', 'applications',\n",
       "       'artificial', 'automation', 'become', 'bpa', 'business', 'case',\n",
       "       'common', 'data', 'detection', 'engines', 'explicitly',\n",
       "       'filtering', 'fraud', 'historical', 'include', 'input',\n",
       "       'intelligence', 'learning', 'machine', 'maintenance', 'malware',\n",
       "       'ml', 'new', 'outcomes', 'output', 'popular', 'predict',\n",
       "       'predicting', 'predictive', 'process', 'programmed',\n",
       "       'recommendation', 'software', 'spam', 'threat', 'type', 'use',\n",
       "       'uses', 'values', 'without'], dtype=object)"
      ]
     },
     "execution_count": 85,
     "metadata": {},
     "output_type": "execute_result"
    }
   ],
   "source": [
    "keywords"
   ]
  },
  {
   "cell_type": "code",
   "execution_count": 86,
   "metadata": {},
   "outputs": [],
   "source": [
    "from sentence_transformers import SentenceTransformer\n",
    "\n",
    "model = SentenceTransformer('distilbert-base-nli-mean-tokens')\n",
    "data_embed = model.encode([data])\n",
    "keyword_embed = model.encode(keywords)"
   ]
  },
  {
   "cell_type": "code",
   "execution_count": 87,
   "metadata": {},
   "outputs": [],
   "source": [
    "from sklearn.metrics.pairwise import cosine_similarity\n",
    "\n",
    "top_n = 5\n",
    "distances = cosine_similarity(data_embed, keyword_embed)\n",
    "keywords = [keywords[index] for index in distances.argsort()[0][-top_n:]]"
   ]
  },
  {
   "cell_type": "code",
   "execution_count": 88,
   "metadata": {},
   "outputs": [
    {
     "data": {
      "text/plain": [
       "['intelligence', 'malware', 'software', 'automation', 'algorithms']"
      ]
     },
     "execution_count": 88,
     "metadata": {},
     "output_type": "execute_result"
    }
   ],
   "source": [
    "keywords"
   ]
  },
  {
   "cell_type": "code",
   "execution_count": null,
   "metadata": {},
   "outputs": [],
   "source": []
  }
 ],
 "metadata": {
  "kernelspec": {
   "display_name": "Python 3.10.7 64-bit",
   "language": "python",
   "name": "python3"
  },
  "language_info": {
   "codemirror_mode": {
    "name": "ipython",
    "version": 3
   },
   "file_extension": ".py",
   "mimetype": "text/x-python",
   "name": "python",
   "nbconvert_exporter": "python",
   "pygments_lexer": "ipython3",
   "version": "3.10.7"
  },
  "orig_nbformat": 4,
  "vscode": {
   "interpreter": {
    "hash": "30f7c703543b98f74a265370aeedf5f5cf7efc2f0baf29f81611cc4f6bf8c141"
   }
  }
 },
 "nbformat": 4,
 "nbformat_minor": 2
}
